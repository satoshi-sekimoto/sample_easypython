{
 "cells": [
  {
   "cell_type": "markdown",
   "metadata": {},
   "source": [
    "# import"
   ]
  },
  {
   "cell_type": "code",
   "execution_count": 1,
   "metadata": {},
   "outputs": [],
   "source": [
    "import pandas as pd  # データ分析ライブラリ\n",
    "import numpy as np  # 数値計算ライブラリ\n",
    "import scipy as sp  # 統計計算ライブラリ\n",
    "import matplotlib as mpl\n",
    "import matplotlib.pyplot as plt\n",
    "from PIL import Image #画像ファイル読み書き\n",
    "import os\n",
    "import sys\n",
    "import glob"
   ]
  },
  {
   "cell_type": "markdown",
   "metadata": {},
   "source": [
    "# あるディレクトリの中の条件を満たすCSVを開いて特定の操作をする"
   ]
  },
  {
   "cell_type": "code",
   "execution_count": 19,
   "metadata": {},
   "outputs": [
    {
     "name": "stdout",
     "output_type": "stream",
     "text": [
      "flightdata-20181215-1046-OFF-1.csv:DF行数=351\n",
      "flightdata-20181215-1046-OFF-2.csv:DF行数=413\n",
      "flightdata-20181215-1046-OFF-3.csv:DF行数=420\n",
      "flightdata-20181215-1046-OFF-4.csv:DF行数=293\n",
      "flightdata-20181215-1046-OFF-5.csv:DF行数=400\n",
      "flightdata-20181215-1113-OFF-1.csv:DF行数=548\n",
      "flightdata-20181215-1113-OFF-2.csv:DF行数=806\n",
      "flightdata-20181215-1113-OFF-3.csv:DF行数=494\n",
      "flightdata-20181216-0917-OFF-1.csv:DF行数=444\n",
      "flightdata-20181216-0917-OFF-2.csv:DF行数=497\n",
      "flightdata-20181216-0917-OFF-3.csv:DF行数=431\n",
      "flightdata-20181216-1018-OFF-1.csv:DF行数=516\n",
      "flightdata-20181216-1018-OFF-2.csv:DF行数=362\n",
      "flightdata-20181216-1018-OFF-3.csv:DF行数=565\n",
      "flightdata-20181216-1018-OFF-4.csv:DF行数=479\n",
      "flightdata-20181216-1055-OFF-1.csv:DF行数=585\n",
      "flightdata-20181216-1055-OFF-2.csv:DF行数=548\n",
      "flightdata-20181216-1055-OFF-3.csv:DF行数=556\n",
      "flightdata-20181216-1055-OFF-4.csv:DF行数=445\n"
     ]
    }
   ],
   "source": [
    "indir=\"./csvテスト\"\n",
    "csvlist=glob.glob(f\"{indir}/flight*OFF*.csv\")   \n",
    "#要素1。f文字列だと変数と文字列のフォーマット文字列が簡単\n",
    "#要素2。globだとワイルドカードで指定できる\n",
    "\n",
    "for path in csvlist: #要素3。シェルスクリプトとほぼ同じ書き方   \n",
    "    filename=os.path.basename(path) #要素４。import osが必要\n",
    "    \n",
    "    df=pd.read_csv(path) #要素５\n",
    "    \n",
    "    #あとはdfで具体的な操作。以下はファイル名と行数を表示する例\n",
    "    print(f\"{filename}:DF行数={len(df)}\")\n"
   ]
  },
  {
   "cell_type": "markdown",
   "metadata": {},
   "source": [
    "# 折れ線プロット/メッシュプロットを書く"
   ]
  },
  {
   "cell_type": "code",
   "execution_count": 61,
   "metadata": {},
   "outputs": [],
   "source": [
    "class Plots:\n",
    "    def __init__(self):       \n",
    "        \n",
    "        pass\n",
    "    \n",
    "    def figinit(self):\n",
    "        \n",
    "        pass\n",
    "    \n",
    "    def figout(savename):\n",
    "        pass"
   ]
  },
  {
   "cell_type": "markdown",
   "metadata": {},
   "source": [
    "# PNG画像の一部切り出し＋サイズを調整＋JPGへ変換\n",
    "（単独で実行可能）"
   ]
  },
  {
   "cell_type": "code",
   "execution_count": 43,
   "metadata": {},
   "outputs": [],
   "source": [
    "inpath=\"./pngorg\"\n",
    "pngdir=\"smallpng\"\n",
    "jpgdir=\"smalljpg\"\n",
    "\n",
    "pnglist = os.listdir(inpath) #ディレクトリの中身全てが対象ならlistdirでもOK\n",
    "\n",
    "#要素１。exist_ok=Trueは既にディレクトリがある場合にエラーを出さないようにする\n",
    "os.makedirs(f\"./{pngdir}\", exist_ok=True)\n",
    "os.makedirs(f\"./{jpgdir}\", exist_ok=True) \n",
    "\n",
    "for path in pnglist:\n",
    "    #画像変換\n",
    "    img = Image.open(f'{inpath}/{path}') #要素２。PNG画像を開く\n",
    "    img = img.crop((161, 166, 954, 839)) #要素３。必要な領域の切り取り\n",
    "    img = img.resize((800, 30)) #出てきた画像の大きさを変更\n",
    "    \n",
    "    #PNG画像出力\n",
    "    img.save(f'{pngdir}/{path}') #pnglistの中身は「名前.png」なのでそのまま使える\n",
    "    \n",
    "    #要素４：JPG画像出力。RGBへの変換が必要らしい\n",
    "    img = img.convert('RGB') #JPG用にImageモードの変換\n",
    "    \n",
    "    filename = os.path.splitext(path)[0] #要素５。0に名前、1に拡張子が格納されるので、0を使う\n",
    "    img.save(f'{jpgdir}/{filename}.jpg')    \n",
    "\n",
    "\n"
   ]
  },
  {
   "cell_type": "markdown",
   "metadata": {},
   "source": [
    "# 平均画像を作成\n",
    "(単独で実行可能)"
   ]
  },
  {
   "cell_type": "code",
   "execution_count": 59,
   "metadata": {},
   "outputs": [
    {
     "name": "stdout",
     "output_type": "stream",
     "text": [
      "平均画像:ON\n",
      "横：1280,縦：960,枚数：8\n",
      "平均画像:OFF\n",
      "横：1280,縦：960,枚数：8\n"
     ]
    }
   ],
   "source": [
    "indir=\"./pngorg\"\n",
    "outdir=\"./png_average\"\n",
    "\n",
    "os.makedirs(f\"./{outdir}\", exist_ok=True)\n",
    "\n",
    "modelist=[\"ON\",\"OFF\"]\n",
    "for mode in modelist: #要素１ 要素文字列はmodeに入っている\n",
    "    print(f\"平均画像:{mode}\")\n",
    "    imlist = glob.glob(f\"{indir}/*{mode}.png\") #対象になる画像のリスト作成\n",
    "    \n",
    "    #要素２：画像を１回配列にして全部足し算して、画像枚数で割り算する\n",
    "    w,h=Image.open(f\"{imlist[0]}\").size #画像リストの最初の画像で画像の大きさを取得\n",
    "    N=len(imlist) #画像リストの大きさで画像枚数を取得\n",
    "    print(F\"横：{w},縦：{h},枚数：{N}\")\n",
    "    \n",
    "    arr=np.zeros((h,w,4),np.float) #PNG画像の大きさに合わせた配列。ここに入れていく。RGBAなので4色分の大きさが必要\n",
    "    for im in imlist: #画像ループ\n",
    "        imname=(f\"{im}\") #開いて\n",
    "        imarr=np.array(Image.open(imname),dtype=np.float) #要素2.A：配列の形状に変換して\n",
    "        arr=arr+imarr/N #画像枚数で割った大きさで足し込む\n",
    "    arr=np.array(np.round(arr),dtype=np.uint8) #要素2.B：画像配列は整数なのでroundで丸める\n",
    "    \n",
    "    #画像出力\n",
    "    out=Image.fromarray(arr,mode=\"RGBA\") #要素2.C：配列を、PNG用にRGBAモードで、画像フォーマットに変換\n",
    "    out.save(f\"{outdir}/Average-{mode}.png\")"
   ]
  },
  {
   "cell_type": "markdown",
   "metadata": {},
   "source": [
    "# 副産物をまとめて消す！\n",
    "単独で実行可能\n",
    "\n",
    "https://note.nkmk.me/python-os-remove-rmdir-removedirs-shutil-rmtree/  \n",
    "https://docs.python.org/ja/3/library/shutil.html"
   ]
  },
  {
   "cell_type": "code",
   "execution_count": 60,
   "metadata": {},
   "outputs": [],
   "source": [
    "import shutil\n",
    "shutil.rmtree('./smallpng', ignore_errors=True)\n",
    "shutil.rmtree('./smalljpg', ignore_errors=True)\n",
    "shutil.rmtree('./png_average', ignore_errors=True)"
   ]
  },
  {
   "cell_type": "code",
   "execution_count": null,
   "metadata": {},
   "outputs": [],
   "source": []
  }
 ],
 "metadata": {
  "kernelspec": {
   "display_name": "Python 3",
   "language": "python",
   "name": "python3"
  },
  "language_info": {
   "codemirror_mode": {
    "name": "ipython",
    "version": 3
   },
   "file_extension": ".py",
   "mimetype": "text/x-python",
   "name": "python",
   "nbconvert_exporter": "python",
   "pygments_lexer": "ipython3",
   "version": "3.7.3"
  }
 },
 "nbformat": 4,
 "nbformat_minor": 2
}
